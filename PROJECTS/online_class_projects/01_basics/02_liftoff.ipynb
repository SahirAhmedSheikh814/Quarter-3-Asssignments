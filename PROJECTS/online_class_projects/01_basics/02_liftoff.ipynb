{
  "nbformat": 4,
  "nbformat_minor": 0,
  "metadata": {
    "colab": {
      "provenance": []
    },
    "kernelspec": {
      "name": "python3",
      "display_name": "Python 3"
    },
    "language_info": {
      "name": "python"
    }
  },
  "cells": [
    {
      "cell_type": "markdown",
      "source": [
        "# Program: countdown_liftoff"
      ],
      "metadata": {
        "id": "ZDbrjb4oTVUr"
      }
    },
    {
      "cell_type": "code",
      "execution_count": 2,
      "metadata": {
        "colab": {
          "base_uri": "https://localhost:8080/"
        },
        "id": "X6dMefHJTIkA",
        "outputId": "cefc4eeb-9156-4114-e987-c0cb4d9aa540"
      },
      "outputs": [
        {
          "output_type": "stream",
          "name": "stdout",
          "text": [
            "\n",
            "🚀 Initiating Countdown Sequence...\n",
            "\n",
            "⏳ 10\n",
            "⏳ 9\n",
            "⏳ 8\n",
            "⏳ 7\n",
            "⏳ 6\n",
            "⏳ 5\n",
            "⏳ 4\n",
            "⏳ 3\n",
            "⏳ 2\n",
            "⏳ 1\n",
            "\n",
            "🔥 Liftoff! 🚀🌍\n"
          ]
        }
      ],
      "source": [
        "import time\n",
        "\n",
        "def main():\n",
        "    \"\"\" 🚀 A program that performs a countdown for a spaceship launch. \"\"\"\n",
        "\n",
        "    print(\"\\n🚀 Initiating Countdown Sequence...\\n\")\n",
        "\n",
        "    # 🔄 Countdown from 10 to 1\n",
        "    for i in range(10, 0, -1):  # ✅ Loop from 10 to 1 (decreasing order)\n",
        "        print(f\"⏳ {i}\")  # ✅ Display the countdown\n",
        "        time.sleep(1)  # ⏳ Pause for 1 second for a realistic effect\n",
        "\n",
        "    print(\"\\n🔥 Liftoff! 🚀🌍\")  # ✅ Print Liftoff after countdown completes\n",
        "\n",
        "# 🏁 Run the program\n",
        "if __name__ == \"__main__\":\n",
        "    main()\n"
      ]
    }
  ]
}