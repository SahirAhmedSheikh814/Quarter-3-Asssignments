{
  "nbformat": 4,
  "nbformat_minor": 0,
  "metadata": {
    "colab": {
      "provenance": []
    },
    "kernelspec": {
      "name": "python3",
      "display_name": "Python 3"
    },
    "language_info": {
      "name": "python"
    }
  },
  "cells": [
    {
      "cell_type": "markdown",
      "source": [
        "# Program: double_until_100"
      ],
      "metadata": {
        "id": "zaHRNo07QqxE"
      }
    },
    {
      "cell_type": "code",
      "execution_count": 1,
      "metadata": {
        "colab": {
          "base_uri": "https://localhost:8080/"
        },
        "id": "DDSrzVfGQIRW",
        "outputId": "2b915889-5eaa-4d2d-d43e-3d03724f9c63"
      },
      "outputs": [
        {
          "output_type": "stream",
          "name": "stdout",
          "text": [
            "🔢 Enter a number to start doubling: 2\n",
            "\n",
            "🚀 Doubling the number...\n",
            "\n",
            "➡️ 4\n",
            "➡️ 8\n",
            "➡️ 16\n",
            "➡️ 32\n",
            "➡️ 64\n",
            "➡️ 128\n",
            "\n",
            "✅ The number has reached 100 or more! 🎉\n"
          ]
        }
      ],
      "source": [
        "import time  # ⏳ Importing time for delay effect\n",
        "\n",
        "def main():\n",
        "    \"\"\" 🔢 A program that continuously doubles a number until it reaches 100 or more. \"\"\"\n",
        "\n",
        "    # 🎯 Get user input\n",
        "    curr_value = int(input(\"🔢 Enter a number to start doubling: \"))\n",
        "\n",
        "    print(\"\\n🚀 Doubling the number...\\n\")\n",
        "\n",
        "    # 🔄 Keep doubling until the value reaches 100 or more\n",
        "    while curr_value < 100:\n",
        "        curr_value *= 2  # ✅ Double the value\n",
        "        print(f\"➡️ {curr_value}\")  # ✅ Print without decimals\n",
        "        time.sleep(1)  # ⏳ Pause for 1 second to show progression\n",
        "\n",
        "    print(\"\\n✅ The number has reached 100 or more! 🎉\")\n",
        "\n",
        "# 🏁 Run the program\n",
        "if __name__ == \"__main__\":\n",
        "    main()\n"
      ]
    }
  ]
}