{
  "nbformat": 4,
  "nbformat_minor": 0,
  "metadata": {
    "colab": {
      "provenance": []
    },
    "kernelspec": {
      "name": "python3",
      "display_name": "Python 3"
    },
    "language_info": {
      "name": "python"
    }
  },
  "cells": [
    {
      "cell_type": "markdown",
      "source": [
        "# **Countdown Timer Python Project**"
      ],
      "metadata": {
        "id": "NJQf5nGQLu1l"
      }
    },
    {
      "cell_type": "code",
      "source": [
        "import time\n",
        "import sys\n",
        "\n",
        "def countdown(t):\n",
        "    \"\"\"Runs the countdown timer for the given seconds.\"\"\"\n",
        "    print(\"\\n⏳ Timer Started!\\n\")\n",
        "\n",
        "    while t:\n",
        "        mins, secs = divmod(t, 60)\n",
        "        timer = f'{mins:02d}:{secs:02d}'\n",
        "        print(f\"\\r⏳ {timer} remaining...\", end=\"\", flush=True)\n",
        "        time.sleep(1)\n",
        "        t -= 1\n",
        "\n",
        "    print(\"\\r⏳ 00:00 - Timer Completed! 🎉    \")\n",
        "    time.sleep(1)\n",
        "\n",
        "    # Optional: Beep sound after timer ends (for Windows)\n",
        "    if sys.platform.startswith('win'):\n",
        "        import winsound\n",
        "        winsound.Beep(1000, 500)  # Frequency = 1000 Hz, Duration = 500 ms\n",
        "\n",
        "    # Ask if the user wants to restart the timer\n",
        "    restart = input(\"\\n🔄 Would you like to restart the timer? (yes/no): \").strip().lower()\n",
        "    if restart in [\"yes\", \"y\"]:\n",
        "        start_timer()\n",
        "    else:\n",
        "        print(\"\\n✅ Thanks for using the Countdown Timer! Have a great day! 😊\")\n",
        "\n",
        "def start_timer():\n",
        "    \"\"\"Handles user input and starts the countdown.\"\"\"\n",
        "    while True:\n",
        "        try:\n",
        "            t = int(input(\"\\n⏰ Enter the countdown time in seconds: \"))\n",
        "            if t <= 0:\n",
        "                print(\"⚠️ Please enter a positive number greater than 0.\")\n",
        "                continue\n",
        "            countdown(t)\n",
        "            break\n",
        "        except ValueError:\n",
        "            print(\"❌ Invalid input! Please enter a valid number.\")\n",
        "\n",
        "# Run the timer\n",
        "if __name__ == \"__main__\":\n",
        "    start_timer()\n"
      ],
      "metadata": {
        "colab": {
          "base_uri": "https://localhost:8080/"
        },
        "id": "kfENF_M1JF-V",
        "outputId": "66fd6a36-1f59-495f-b260-694882510cc6"
      },
      "execution_count": 7,
      "outputs": [
        {
          "output_type": "stream",
          "name": "stdout",
          "text": [
            "\n",
            "⏰ Enter the countdown time in seconds: 4\n",
            "\n",
            "⏳ Timer Started!\n",
            "\n",
            "⏳ 00:00 - Timer Completed! 🎉    \n",
            "\n",
            "🔄 Would you like to restart the timer? (yes/no): y\n",
            "\n",
            "⏰ Enter the countdown time in seconds: s\n",
            "❌ Invalid input! Please enter a valid number.\n",
            "\n",
            "⏰ Enter the countdown time in seconds: -1\n",
            "⚠️ Please enter a positive number greater than 0.\n",
            "\n",
            "⏰ Enter the countdown time in seconds: 10\n",
            "\n",
            "⏳ Timer Started!\n",
            "\n",
            "⏳ 00:00 - Timer Completed! 🎉    \n",
            "\n",
            "🔄 Would you like to restart the timer? (yes/no): no\n",
            "\n",
            "✅ Thanks for using the Countdown Timer! Have a great day! 😊\n"
          ]
        }
      ]
    }
  ]
}