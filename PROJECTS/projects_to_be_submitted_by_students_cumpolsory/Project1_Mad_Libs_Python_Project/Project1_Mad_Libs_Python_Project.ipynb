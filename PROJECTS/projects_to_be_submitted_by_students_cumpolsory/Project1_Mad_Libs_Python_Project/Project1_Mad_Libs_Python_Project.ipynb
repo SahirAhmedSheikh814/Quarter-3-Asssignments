{
  "nbformat": 4,
  "nbformat_minor": 0,
  "metadata": {
    "colab": {
      "provenance": []
    },
    "kernelspec": {
      "name": "python3",
      "display_name": "Python 3"
    },
    "language_info": {
      "name": "python"
    }
  },
  "cells": [
    {
      "cell_type": "markdown",
      "source": [
        "# **Mad libs Python Project**"
      ],
      "metadata": {
        "id": "Z2TWAcjrmJ0U"
      }
    },
    {
      "cell_type": "code",
      "execution_count": 2,
      "metadata": {
        "colab": {
          "base_uri": "https://localhost:8080/"
        },
        "id": "s8SFnn_7fUVb",
        "outputId": "aba0e3d8-2515-4adf-d32e-0188f1d7795c"
      },
      "outputs": [
        {
          "output_type": "stream",
          "name": "stdout",
          "text": [
            "Welcome to the Mad Libs Adventure! Fill in the blanks to create an exciting story.\n",
            "\n",
            "Enter a name: Zara\n",
            "Enter an age: 18\n",
            "Enter a city: Eldoria\n",
            "Enter a profession: Scientist\n",
            "Enter a magical creature (e.g., dragon, unicorn): Phoenix\n",
            "Enter an adjective: Brave\n",
            "Enter another adjective: Enchanted\n",
            "Enter a mysterious object: Golden Key\n",
            "Enter another object: Silver Shield\n",
            "Enter a superpower: Invisibility\n",
            "Enter a villain’s name: Dr. Shadow\n",
            "Enter an action verb: Vanish\n",
            "\n",
            "Generating your story...\n",
            "\n",
            "\n",
            "    Once upon a time in the bustling city of Eldoria, there lived a Brave Scientist named Zara.\n",
            "    At just 18 years old, Zara was known for their incredible Invisibility abilities. \n",
            "\n",
            "    One day, while exploring an ancient library, Zara stumbled upon a Golden Key. \n",
            "    As soon as they touched it, a bright light surrounded them, and suddenly, a Phoenix appeared! \n",
            "    The Phoenix told Zara that they were the chosen one to protect the city from the evil Dr. Shadow.\n",
            "\n",
            "    Armed with courage and a Enchanted Silver Shield, Zara set out on a thrilling adventure. \n",
            "    Along the way, they encountered magical lands, solved mysterious riddles, and faced dangerous obstacles.\n",
            "\n",
            "    Finally, the moment of truth arrived. Dr. Shadow was about to destroy Eldoria, but Zara used their Invisibility \n",
            "    to Vanish just in time, saving the city from destruction! \n",
            "\n",
            "    The people of Eldoria cheered, and the Phoenix rewarded Zara with a lifetime of wisdom and power.\n",
            "    And so, the legend of Zara lived on forever... ✨\n",
            "\n",
            "    THE END.\n",
            "    \n"
          ]
        }
      ],
      "source": [
        "import time\n",
        "\n",
        "def madlibs():\n",
        "    print(\"Welcome to the Mad Libs Adventure! Fill in the blanks to create an exciting story.\\n\")\n",
        "\n",
        "    # Taking Inputs from the User\n",
        "    name = input(\"Enter a name: \")\n",
        "    age = input(\"Enter an age: \")\n",
        "    city = input(\"Enter a city: \")\n",
        "    profession = input(\"Enter a profession: \")\n",
        "    magical_creature = input(\"Enter a magical creature (e.g., dragon, unicorn): \")\n",
        "    adjective1 = input(\"Enter an adjective: \")\n",
        "    adjective2 = input(\"Enter another adjective: \")\n",
        "    object1 = input(\"Enter a mysterious object: \")\n",
        "    object2 = input(\"Enter another object: \")\n",
        "    superpower = input(\"Enter a superpower: \")\n",
        "    villain_name = input(\"Enter a villain’s name: \")\n",
        "    verb = input(\"Enter an action verb: \")\n",
        "\n",
        "    # Story with user inputs\n",
        "    story = f\"\"\"\n",
        "    Once upon a time in the bustling city of {city}, there lived a {adjective1} {profession} named {name}.\n",
        "    At just {age} years old, {name} was known for their incredible {superpower} abilities.\n",
        "\n",
        "    One day, while exploring an ancient library, {name} stumbled upon a {object1}.\n",
        "    As soon as they touched it, a bright light surrounded them, and suddenly, a {magical_creature} appeared!\n",
        "    The {magical_creature} told {name} that they were the chosen one to protect the city from the evil {villain_name}.\n",
        "\n",
        "    Armed with courage and a {adjective2} {object2}, {name} set out on a thrilling adventure.\n",
        "    Along the way, they encountered magical lands, solved mysterious riddles, and faced dangerous obstacles.\n",
        "\n",
        "    Finally, the moment of truth arrived. {villain_name} was about to destroy {city}, but {name} used their {superpower}\n",
        "    to {verb} just in time, saving the city from destruction!\n",
        "\n",
        "    The people of {city} cheered, and the {magical_creature} rewarded {name} with a lifetime of wisdom and power.\n",
        "    And so, the legend of {name} lived on forever... ✨\n",
        "\n",
        "    THE END.\n",
        "    \"\"\"\n",
        "\n",
        "    print(\"\\nGenerating your story...\\n\")\n",
        "    time.sleep(2)  # Adding a dramatic pause for effect\n",
        "    print(story)\n",
        "\n",
        "# Running the Mad Libs Game\n",
        "if __name__ == \"__main__\":\n",
        "    madlibs()\n"
      ]
    }
  ]
}