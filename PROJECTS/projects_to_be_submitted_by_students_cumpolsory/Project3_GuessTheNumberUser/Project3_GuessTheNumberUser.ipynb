{
  "nbformat": 4,
  "nbformat_minor": 0,
  "metadata": {
    "colab": {
      "provenance": []
    },
    "kernelspec": {
      "name": "python3",
      "display_name": "Python 3"
    },
    "language_info": {
      "name": "python"
    }
  },
  "cells": [
    {
      "cell_type": "markdown",
      "source": [
        "# **Guess the Number Game Python Project (user)**"
      ],
      "metadata": {
        "id": "21hEJgaJyB0Z"
      }
    },
    {
      "cell_type": "code",
      "execution_count": null,
      "metadata": {
        "colab": {
          "base_uri": "https://localhost:8080/"
        },
        "id": "P4k4SFlMwKjt",
        "outputId": "95e2eb43-d31d-463b-a389-6e6aeb7909bd"
      },
      "outputs": [
        {
          "output_type": "stream",
          "name": "stdout",
          "text": [
            "\n",
            "Enter the upper limit for the guessing game: 30\n",
            "\n",
            "🎯 Welcome to the 'Guess the Number' Game (User Version)! 🎯\n",
            "Think of a number between 1 and 30, and I'll try to guess it! 🤔\n",
            "Provide feedback: (H = Too High, L = Too Low, C = Correct)\n",
            "\n",
            "Is 12 too high (H), too low (L), or correct (C)? l\n",
            "Is 25 too high (H), too low (L), or correct (C)? h\n",
            "Is 24 too high (H), too low (L), or correct (C)? h\n",
            "Is 23 too high (H), too low (L), or correct (C)? c\n",
            "\n",
            "🎉 Yay! The computer guessed your number, 23, correctly in 4 attempts! 🏆\n",
            "\n",
            "Would you like to play again? (yes/no): yes\n",
            "\n",
            "🎯 Welcome to the 'Guess the Number' Game (User Version)! 🎯\n",
            "Think of a number between 1 and 30, and I'll try to guess it! 🤔\n",
            "Provide feedback: (H = Too High, L = Too Low, C = Correct)\n",
            "\n",
            "Is 10 too high (H), too low (L), or correct (C)? f\n",
            "❌ Invalid input! Please enter 'H', 'L', or 'C'.\n",
            "Is 28 too high (H), too low (L), or correct (C)? h\n",
            "Is 12 too high (H), too low (L), or correct (C)? c\n",
            "\n",
            "🎉 Yay! The computer guessed your number, 12, correctly in 3 attempts! 🏆\n",
            "\n",
            "Would you like to play again? (yes/no): no\n",
            "\n",
            "Thanks for playing! Have a great day! 😊\n"
          ]
        }
      ],
      "source": [
        "import random\n",
        "\n",
        "def computer_guess(x):\n",
        "    print(\"\\n🎯 Welcome to the 'Guess the Number' Game (User Version)! 🎯\")\n",
        "    print(f\"Think of a number between 1 and {x}, and I'll try to guess it! 🤔\")\n",
        "    print(\"Provide feedback: (H = Too High, L = Too Low, C = Correct)\\n\")\n",
        "\n",
        "    low, high = 1, x\n",
        "    attempts = 0\n",
        "    feedback = ''\n",
        "\n",
        "    while feedback != 'c':\n",
        "        if low != high:\n",
        "            guess = random.randint(low, high)\n",
        "        else:\n",
        "            guess = low  # since low == high\n",
        "\n",
        "        attempts += 1\n",
        "        feedback = input(f\"Is {guess} too high (H), too low (L), or correct (C)? \").strip().lower()\n",
        "\n",
        "        if feedback == 'h':\n",
        "            high = guess - 1\n",
        "        elif feedback == 'l':\n",
        "            low = guess + 1\n",
        "        elif feedback != 'c':\n",
        "            print(\"❌ Invalid input! Please enter 'H', 'L', or 'C'.\")\n",
        "\n",
        "    print(f\"\\n🎉 Yay! The computer guessed your number, {guess}, correctly in {attempts} attempts! 🏆\")\n",
        "\n",
        "    # Ask if the user wants to play again\n",
        "    play_again = input(\"\\nWould you like to play again? (yes/no): \").strip().lower()\n",
        "    if play_again == 'yes':\n",
        "        computer_guess(x)\n",
        "    else:\n",
        "        print(\"\\nThanks for playing! Have a great day! 😊\")\n",
        "\n",
        "# Run the game with a chosen range\n",
        "if __name__ == \"__main__\":\n",
        "    while True:\n",
        "        try:\n",
        "            upper_limit = int(input(\"\\nEnter the upper limit for the guessing game: \"))\n",
        "            if upper_limit < 1:\n",
        "                print(\"⚠️ Please enter a positive number greater than 0.\")\n",
        "            else:\n",
        "                computer_guess(upper_limit)\n",
        "                break\n",
        "        except ValueError:\n",
        "            print(\"❌ Invalid input! Please enter a valid number.\")\n"
      ]
    }
  ]
}