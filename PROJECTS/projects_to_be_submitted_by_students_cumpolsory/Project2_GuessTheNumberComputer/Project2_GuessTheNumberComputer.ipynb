{
  "nbformat": 4,
  "nbformat_minor": 0,
  "metadata": {
    "colab": {
      "provenance": []
    },
    "kernelspec": {
      "name": "python3",
      "display_name": "Python 3"
    },
    "language_info": {
      "name": "python"
    }
  },
  "cells": [
    {
      "cell_type": "markdown",
      "source": [
        "# **Guess the Number Game Python Project (computer)**"
      ],
      "metadata": {
        "id": "mk_ehAkyu4GP"
      }
    },
    {
      "cell_type": "code",
      "execution_count": 4,
      "metadata": {
        "id": "paOFEQyinXWt",
        "colab": {
          "base_uri": "https://localhost:8080/"
        },
        "outputId": "25a59d86-ba2d-4551-cc0c-33db09167962"
      },
      "outputs": [
        {
          "output_type": "stream",
          "name": "stdout",
          "text": [
            "\n",
            "Enter the upper limit for the guessing game (Press Enter for default 10): \n",
            "\n",
            "🎯 Welcome to the 'Guess the Number' Game! 🎯\n",
            "I have selected a number between 1 and 10. Can you guess it?\n",
            "\n",
            "Enter your guess: 9\n",
            "📈 Too high! Try again.\n",
            "\n",
            "Enter your guess: 3\n",
            "📈 Too high! Try again.\n",
            "\n",
            "Enter your guess: 2\n",
            "📈 Too high! Try again.\n",
            "\n",
            "Enter your guess: 1\n",
            "\n",
            "🎉 Congratulations! You guessed the number 1 correctly in 4 attempts. 🏆\n",
            "\n",
            "Would you like to play again? (yes/no): yes\n",
            "\n",
            "🎯 Welcome to the 'Guess the Number' Game! 🎯\n",
            "I have selected a number between 1 and 10. Can you guess it?\n",
            "\n",
            "Enter your guess: sahir\n",
            "❌ Invalid input! Please enter a valid number.\n",
            "\n",
            "Enter your guess: 3\n",
            "📉 Too low! Try again.\n",
            "\n",
            "Enter your guess: 5\n",
            "📉 Too low! Try again.\n",
            "\n",
            "Enter your guess: 9\n",
            "📈 Too high! Try again.\n",
            "\n",
            "Enter your guess: 7\n",
            "📈 Too high! Try again.\n",
            "\n",
            "Enter your guess: 6\n",
            "\n",
            "🎉 Congratulations! You guessed the number 6 correctly in 5 attempts. 🏆\n",
            "\n",
            "Would you like to play again? (yes/no): no\n",
            "\n",
            "Thanks for playing! Have a great day! 😊\n"
          ]
        }
      ],
      "source": [
        "import random\n",
        "\n",
        "def guess(x):\n",
        "    random_number = random.randint(1, x)\n",
        "    user_guess = None\n",
        "    attempts = 0\n",
        "\n",
        "    print(\"\\n🎯 Welcome to the 'Guess the Number' Game! 🎯\")\n",
        "    print(f\"I have selected a number between 1 and {x}. Can you guess it?\")\n",
        "\n",
        "    while user_guess != random_number:\n",
        "        try:\n",
        "            user_guess = int(input(\"\\nEnter your guess: \"))\n",
        "            attempts += 1\n",
        "\n",
        "            if user_guess < 1 or user_guess > x:\n",
        "                print(f\"🚨 Out of range! Please enter a number between 1 and {x}.\")\n",
        "            elif user_guess < random_number:\n",
        "                print(\"📉 Too low! Try again.\")\n",
        "            elif user_guess > random_number:\n",
        "                print(\"📈 Too high! Try again.\")\n",
        "        except ValueError:\n",
        "            print(\"❌ Invalid input! Please enter a valid number.\")\n",
        "\n",
        "    print(f\"\\n🎉 Congratulations! You guessed the number {random_number} correctly in {attempts} attempts. 🏆\")\n",
        "\n",
        "    # Ask if the player wants to play again\n",
        "    play_again = input(\"\\nWould you like to play again? (yes/no): \").strip().lower()\n",
        "    if play_again == \"yes\":\n",
        "        guess(x)\n",
        "    else:\n",
        "        print(\"\\nThanks for playing! Have a great day! 😊\")\n",
        "\n",
        "# Run the game with a chosen range or default (10)\n",
        "if __name__ == \"__main__\":\n",
        "    while True:\n",
        "        try:\n",
        "            upper_limit = input(\"\\nEnter the upper limit for the guessing game (Press Enter for default 10): \")\n",
        "            if upper_limit == \"\":\n",
        "                guess(10)\n",
        "                break\n",
        "            upper_limit = int(upper_limit)\n",
        "            if upper_limit < 1:\n",
        "                print(\"⚠️ Please enter a positive number greater than 0.\")\n",
        "            else:\n",
        "                guess(upper_limit)\n",
        "                break\n",
        "        except ValueError:\n",
        "            print(\"❌ Invalid input! Please enter a valid number.\")\n"
      ]
    }
  ]
}