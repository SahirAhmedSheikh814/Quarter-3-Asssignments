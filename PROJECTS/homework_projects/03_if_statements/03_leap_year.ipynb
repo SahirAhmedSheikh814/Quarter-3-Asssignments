{
  "nbformat": 4,
  "nbformat_minor": 0,
  "metadata": {
    "colab": {
      "provenance": []
    },
    "kernelspec": {
      "name": "python3",
      "display_name": "Python 3"
    },
    "language_info": {
      "name": "python"
    }
  },
  "cells": [
    {
      "cell_type": "markdown",
      "source": [
        "# Program: leap_year_checker"
      ],
      "metadata": {
        "id": "hyc-PkfBX8w2"
      }
    },
    {
      "cell_type": "code",
      "execution_count": 1,
      "metadata": {
        "colab": {
          "base_uri": "https://localhost:8080/"
        },
        "id": "9oXoCnCXXkO7",
        "outputId": "064b223d-c3ee-4f96-9581-13c1b55d2983"
      },
      "outputs": [
        {
          "output_type": "stream",
          "name": "stdout",
          "text": [
            "📅 Welcome to the Leap Year Checker! 📅\n",
            "\n",
            "🔹 Enter a year to check if it's a leap year: 2025\n",
            "❌ 2025 is NOT a Leap Year.\n",
            "\n",
            "🔄 Would you like to check another year? (yes/y or no/n): y\n",
            "\n",
            "🔁 Restarting the program...\n",
            "\n",
            "🔹 Enter a year to check if it's a leap year: 2024\n",
            "✅ 2024 is a Leap Year! 🎉\n",
            "\n",
            "🔄 Would you like to check another year? (yes/y or no/n): y\n",
            "\n",
            "🔁 Restarting the program...\n",
            "\n",
            "🔹 Enter a year to check if it's a leap year: 1981\n",
            "❌ 1981 is NOT a Leap Year.\n",
            "\n",
            "🔄 Would you like to check another year? (yes/y or no/n): n\n",
            "\n",
            "🎉 Thank you for using the Leap Year Checker! Have a great day! 😊\n"
          ]
        }
      ],
      "source": [
        "def is_leap_year(year: int) -> bool:\n",
        "    \"\"\"\n",
        "    Determines if a given year is a leap year based on the Gregorian calendar rules.\n",
        "\n",
        "    A leap year:\n",
        "    - Must be divisible by 4\n",
        "    - If divisible by 100, it must also be divisible by 400\n",
        "    \"\"\"\n",
        "    if (year % 4 == 0 and year % 100 != 0) or (year % 400 == 0):\n",
        "        return True\n",
        "    return False\n",
        "\n",
        "def main():\n",
        "    \"\"\" Main function to handle user input and check leap year status \"\"\"\n",
        "    print(\"📅 Welcome to the Leap Year Checker! 📅\\n\")\n",
        "\n",
        "    while True:\n",
        "        # Get user input and validate it\n",
        "        while True:\n",
        "            try:\n",
        "                year = int(input(\"🔹 Enter a year to check if it's a leap year: \"))\n",
        "                if year < 0:\n",
        "                    print(\"🚨 Please enter a valid positive year.\")\n",
        "                else:\n",
        "                    break  # Exit loop if input is valid\n",
        "            except ValueError:\n",
        "                print(\"❌ Invalid input! Please enter a numeric year.\")\n",
        "\n",
        "        # Check and display result\n",
        "        if is_leap_year(year):\n",
        "            print(f\"✅ {year} is a Leap Year! 🎉\\n\")\n",
        "        else:\n",
        "            print(f\"❌ {year} is NOT a Leap Year.\\n\")\n",
        "\n",
        "        # Ask user if they want to check another year\n",
        "        while True:\n",
        "            restart = input(\"🔄 Would you like to check another year? (yes/y or no/n): \").strip().lower()\n",
        "            if restart in [\"yes\", \"y\"]:\n",
        "                print(\"\\n🔁 Restarting the program...\\n\")\n",
        "                break  # Restart the loop\n",
        "            elif restart in [\"no\", \"n\"]:\n",
        "                print(\"\\n🎉 Thank you for using the Leap Year Checker! Have a great day! 😊\")\n",
        "                return  # Exit the program\n",
        "            else:\n",
        "                print(\"⚠️ Invalid choice! Please enter 'yes' or 'no'.\")\n",
        "\n",
        "if __name__ == \"__main__\":\n",
        "    main()\n"
      ]
    }
  ]
}