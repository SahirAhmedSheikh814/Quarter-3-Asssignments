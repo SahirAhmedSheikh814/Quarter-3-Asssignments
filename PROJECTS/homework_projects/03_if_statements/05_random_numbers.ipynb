{
  "nbformat": 4,
  "nbformat_minor": 0,
  "metadata": {
    "colab": {
      "provenance": []
    },
    "kernelspec": {
      "name": "python3",
      "display_name": "Python 3"
    },
    "language_info": {
      "name": "python"
    }
  },
  "cells": [
    {
      "cell_type": "markdown",
      "source": [
        "# Program: random_numbers"
      ],
      "metadata": {
        "id": "YugBC3dgblkS"
      }
    },
    {
      "cell_type": "code",
      "execution_count": 1,
      "metadata": {
        "colab": {
          "base_uri": "https://localhost:8080/"
        },
        "id": "-ylIu1jga2ml",
        "outputId": "912918f2-3931-433f-ecb0-c7a6f5a21d8e"
      },
      "outputs": [
        {
          "output_type": "stream",
          "name": "stdout",
          "text": [
            "🔢 Welcome to the Random Number Generator! 🔢\n",
            "\n",
            "🎲 Generated Random Numbers: 47 18 51 22 4 84 24 3 3 79\n",
            "\n",
            "🔄 Would you like to generate another set? (yes/y or no/n): y\n",
            "🎲 Generated Random Numbers: 47 22 73 60 5 34 45 80 58 95\n",
            "\n",
            "🔄 Would you like to generate another set? (yes/y or no/n): n\n",
            "\n",
            "👋 Thanks for using the Random Number Generator! Have a great day! 😊\n"
          ]
        }
      ],
      "source": [
        "import random\n",
        "\n",
        "# Constants for number generation\n",
        "NUMBERS_COUNT: int = 10  # Total numbers to generate\n",
        "MIN_VALUE: int = 1       # Minimum value in range\n",
        "MAX_VALUE: int = 100     # Maximum value in range\n",
        "\n",
        "def generate_random_numbers():\n",
        "    \"\"\"Generates and prints 10 random numbers in the range 1 to 100.\"\"\"\n",
        "    random_numbers = [str(random.randint(MIN_VALUE, MAX_VALUE)) for _ in range(NUMBERS_COUNT)]\n",
        "    print(\"🎲 Generated Random Numbers: \" + \" \".join(random_numbers))\n",
        "\n",
        "def main():\n",
        "    \"\"\"Main function to run the random number generator\"\"\"\n",
        "    print(\"🔢 Welcome to the Random Number Generator! 🔢\\n\")\n",
        "\n",
        "    while True:\n",
        "        generate_random_numbers()\n",
        "\n",
        "        # Ask user if they want to generate another set of numbers\n",
        "        while True:\n",
        "            retry = input(\"\\n🔄 Would you like to generate another set? (yes/y or no/n): \").strip().lower()\n",
        "            if retry in [\"yes\", \"y\"]:\n",
        "                break  # Restart the loop\n",
        "            elif retry in [\"no\", \"n\"]:\n",
        "                print(\"\\n👋 Thanks for using the Random Number Generator! Have a great day! 😊\")\n",
        "                return  # Exit the program\n",
        "            else:\n",
        "                print(\"❌ Invalid input! Please enter 'yes/y' or 'no/n'.\")\n",
        "\n",
        "if __name__ == \"__main__\":\n",
        "    main()\n"
      ]
    }
  ]
}