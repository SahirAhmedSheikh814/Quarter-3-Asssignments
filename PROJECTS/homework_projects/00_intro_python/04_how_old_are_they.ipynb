{
  "nbformat": 4,
  "nbformat_minor": 0,
  "metadata": {
    "colab": {
      "provenance": []
    },
    "kernelspec": {
      "name": "python3",
      "display_name": "Python 3"
    },
    "language_info": {
      "name": "python"
    }
  },
  "cells": [
    {
      "cell_type": "markdown",
      "source": [
        "# Program: friend_ages"
      ],
      "metadata": {
        "id": "80t6kXxtZq0P"
      }
    },
    {
      "cell_type": "code",
      "execution_count": null,
      "metadata": {
        "colab": {
          "base_uri": "https://localhost:8080/"
        },
        "id": "M3OXhPp0ZXeL",
        "outputId": "62c5a839-9493-4385-d4db-144555fe4e28"
      },
      "outputs": [
        {
          "output_type": "stream",
          "name": "stdout",
          "text": [
            "Anton is 21\n",
            "Beth is 27\n",
            "Chen is 47\n",
            "Drew is 68\n",
            "Ethan is 47\n"
          ]
        }
      ],
      "source": [
        "def add_ages():\n",
        "    anton = 21  # Anton's age is given\n",
        "    beth = anton + 6  # Beth is 6 years older\n",
        "    chen = beth + 20  # Chen is 20 years older than Beth\n",
        "    drew = anton + chen  # Drew is Chen's age plus Anton's age\n",
        "    ethan = chen  # Ethan is the same age as Chen\n",
        "\n",
        "    # Print all ages\n",
        "    print(\"Anton is \" + str(anton))\n",
        "    print(\"Beth is \" + str(beth))\n",
        "    print(\"Chen is \" + str(chen))\n",
        "    print(\"Drew is \" + str(drew))\n",
        "    print(\"Ethan is \" + str(ethan))\n",
        "\n",
        "if __name__ == \"__main__\":\n",
        "    add_ages()"
      ]
    }
  ]
}