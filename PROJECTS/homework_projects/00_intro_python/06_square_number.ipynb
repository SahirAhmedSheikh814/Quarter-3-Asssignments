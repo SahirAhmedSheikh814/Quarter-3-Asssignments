{
  "nbformat": 4,
  "nbformat_minor": 0,
  "metadata": {
    "colab": {
      "provenance": []
    },
    "kernelspec": {
      "name": "python3",
      "display_name": "Python 3"
    },
    "language_info": {
      "name": "python"
    }
  },
  "cells": [
    {
      "cell_type": "markdown",
      "source": [
        "# Program: Square Calculator"
      ],
      "metadata": {
        "id": "2KPR2U5DawcW"
      }
    },
    {
      "cell_type": "code",
      "execution_count": 1,
      "metadata": {
        "colab": {
          "base_uri": "https://localhost:8080/"
        },
        "id": "No_KBaCJaqzW",
        "outputId": "62dc202f-68fb-4e6a-8581-57f879c6609e"
      },
      "outputs": [
        {
          "output_type": "stream",
          "name": "stdout",
          "text": [
            "Enter any number and I will give you a square value: 5\n",
            "The square of 5 is 25\n"
          ]
        }
      ],
      "source": [
        "def square():\n",
        "    try:\n",
        "        num1: int = int(input(\"Enter any number and I will give you a square value: \"))\n",
        "        print(f\"The square of {num1} is {num1 ** 2}\")\n",
        "    except ValueError:\n",
        "        print(\"Invalid input! Please enter a numeric value.\")\n",
        "\n",
        "if __name__ == \"__main__\":\n",
        "    square()"
      ]
    }
  ]
}