{
  "nbformat": 4,
  "nbformat_minor": 0,
  "metadata": {
    "colab": {
      "provenance": []
    },
    "kernelspec": {
      "name": "python3",
      "display_name": "Python 3"
    },
    "language_info": {
      "name": "python"
    }
  },
  "cells": [
    {
      "cell_type": "markdown",
      "source": [
        "# Program: add2numbers"
      ],
      "metadata": {
        "id": "G9dnc1OLS746"
      }
    },
    {
      "cell_type": "code",
      "execution_count": 1,
      "metadata": {
        "colab": {
          "base_uri": "https://localhost:8080/"
        },
        "id": "h5N4iYvoSsKW",
        "outputId": "bd7f752c-4695-44b9-b3ed-e1ee92f33663"
      },
      "outputs": [
        {
          "output_type": "stream",
          "name": "stdout",
          "text": [
            "This application is designed to perform the addition of two numbers efficiently and accurately.\n",
            "Enter the first number 10\n",
            "Enter the second number 15\n",
            "The total sum of 10 and 15 is 25\n"
          ]
        }
      ],
      "source": [
        "def add():\n",
        "  print(\"This application is designed to perform the addition of two numbers efficiently and accurately.\")\n",
        "  first_number = int(input(\"Enter the first number \"))\n",
        "  second_number = int(input(\"Enter the second number \"))\n",
        "  total = int(first_number + second_number)\n",
        "  print(f'The total sum of {first_number} and {second_number} is {total}')\n",
        "\n",
        "if __name__ == \"__main__\":\n",
        "  add()"
      ]
    }
  ]
}