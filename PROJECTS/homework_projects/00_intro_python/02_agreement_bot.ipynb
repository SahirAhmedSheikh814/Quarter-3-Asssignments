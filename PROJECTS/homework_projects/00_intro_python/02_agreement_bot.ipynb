{
  "nbformat": 4,
  "nbformat_minor": 0,
  "metadata": {
    "colab": {
      "provenance": []
    },
    "kernelspec": {
      "name": "python3",
      "display_name": "Python 3"
    },
    "language_info": {
      "name": "python"
    }
  },
  "cells": [
    {
      "cell_type": "markdown",
      "source": [
        "# Program: Favorite Animal"
      ],
      "metadata": {
        "id": "ct6kqwbHVT4y"
      }
    },
    {
      "cell_type": "code",
      "execution_count": 1,
      "metadata": {
        "colab": {
          "base_uri": "https://localhost:8080/"
        },
        "id": "gpwf8P0oVJEj",
        "outputId": "4bc07ae5-64c5-4e01-80e7-1b6a208a38c9"
      },
      "outputs": [
        {
          "output_type": "stream",
          "name": "stdout",
          "text": [
            "What is your favourite animal? lion\n",
            "My favourite animal is also lion!\n"
          ]
        }
      ],
      "source": [
        "def bot():\n",
        "  animal = str(input(\"What is your favourite animal? \"))\n",
        "  print(f'My favourite animal is also {animal}!')\n",
        "\n",
        "if __name__ == \"__main__\":\n",
        "  bot()"
      ]
    }
  ]
}