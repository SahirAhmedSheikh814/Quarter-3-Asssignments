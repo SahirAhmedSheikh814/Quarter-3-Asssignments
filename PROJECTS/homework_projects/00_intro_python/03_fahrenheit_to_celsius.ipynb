{
  "nbformat": 4,
  "nbformat_minor": 0,
  "metadata": {
    "colab": {
      "provenance": []
    },
    "kernelspec": {
      "name": "python3",
      "display_name": "Python 3"
    },
    "language_info": {
      "name": "python"
    }
  },
  "cells": [
    {
      "cell_type": "markdown",
      "source": [
        "# Program: Fahrenheit to Celsius Converter"
      ],
      "metadata": {
        "id": "NCJClnQ6Y3BB"
      }
    },
    {
      "cell_type": "code",
      "execution_count": 1,
      "metadata": {
        "colab": {
          "base_uri": "https://localhost:8080/"
        },
        "id": "HYeE-DABYkEL",
        "outputId": "68b03517-0d29-4696-fbec-c0947f992128"
      },
      "outputs": [
        {
          "output_type": "stream",
          "name": "stdout",
          "text": [
            "Converts Fahrenheit to Celsius with accuracy and efficiency.\n",
            "Enter temperature in Fahrenheit: 97\n",
            "Temperature: 97.0F = 36.111111111111114C\n"
          ]
        }
      ],
      "source": [
        "def temp():\n",
        "  print(\"Converts Fahrenheit to Celsius with accuracy and efficiency.\")\n",
        "  fahrenheit_degree = float(input(\"Enter temperature in Fahrenheit: \"))\n",
        "  celsius_degree = (fahrenheit_degree - 32) * 5.0/9.0\n",
        "  print(f'Temperature: {fahrenheit_degree}F = {celsius_degree}C')\n",
        "\n",
        "if __name__ == \"__main__\":\n",
        "  temp()"
      ]
    }
  ]
}