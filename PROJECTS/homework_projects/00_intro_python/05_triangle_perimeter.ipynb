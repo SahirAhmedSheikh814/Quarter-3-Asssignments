{
  "nbformat": 4,
  "nbformat_minor": 0,
  "metadata": {
    "colab": {
      "provenance": []
    },
    "kernelspec": {
      "name": "python3",
      "display_name": "Python 3"
    },
    "language_info": {
      "name": "python"
    }
  },
  "cells": [
    {
      "cell_type": "markdown",
      "source": [
        "# Program: Triangle Perimeter Calculator"
      ],
      "metadata": {
        "id": "SJsz_1eDaTZS"
      }
    },
    {
      "cell_type": "code",
      "execution_count": 1,
      "metadata": {
        "colab": {
          "base_uri": "https://localhost:8080/"
        },
        "id": "NLBL9lYYaIma",
        "outputId": "43d1eb5a-f4fe-4d43-998e-be6e1700d5d1"
      },
      "outputs": [
        {
          "output_type": "stream",
          "name": "stdout",
          "text": [
            "What is the length of side 1? 3\n",
            "What is the length of side 2? 4\n",
            "What is the length of side 3? 5.5\n",
            "The perimeter of the triangle is 12.5\n"
          ]
        }
      ],
      "source": [
        "def triangle():\n",
        "    side1: float = float(input(\"What is the length of side 1? \"))\n",
        "    side2: float = float(input(\"What is the length of side 2? \"))\n",
        "    side3: float = float(input(\"What is the length of side 3? \"))\n",
        "\n",
        "    total: float = side1 + side2 + side3\n",
        "\n",
        "    print(f\"The perimeter of the triangle is {total}\")\n",
        "\n",
        "if __name__ == \"__main__\":\n",
        "    triangle()"
      ]
    }
  ]
}