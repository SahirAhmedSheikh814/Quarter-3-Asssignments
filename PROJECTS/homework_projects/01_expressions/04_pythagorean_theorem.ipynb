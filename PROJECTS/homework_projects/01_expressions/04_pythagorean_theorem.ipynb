{
  "nbformat": 4,
  "nbformat_minor": 0,
  "metadata": {
    "colab": {
      "provenance": []
    },
    "kernelspec": {
      "name": "python3",
      "display_name": "Python 3"
    },
    "language_info": {
      "name": "python"
    }
  },
  "cells": [
    {
      "cell_type": "markdown",
      "source": [
        "# Program: pythagorean_calculator"
      ],
      "metadata": {
        "id": "p0cm-G7mIML3"
      }
    },
    {
      "cell_type": "code",
      "execution_count": 2,
      "metadata": {
        "colab": {
          "base_uri": "https://localhost:8080/"
        },
        "id": "x-zHUxeeIDzG",
        "outputId": "654ffec2-2092-4e56-ce1c-de6918abf52c"
      },
      "outputs": [
        {
          "output_type": "stream",
          "name": "stdout",
          "text": [
            "\n",
            "📏 Pythagorean Theorem Calculator 📏\n",
            "🔹 Enter the length of side AB: 3\n",
            "🔹 Enter the length of side AC: 4\n",
            "\n",
            "✅ The length of BC (the hypotenuse) is: 5.00 units.\n",
            "\n",
            "🔄 Would you like to calculate another hypotenuse? (yes/no): y\n",
            "\n",
            "📏 Pythagorean Theorem Calculator 📏\n",
            "🔹 Enter the length of side AB: sahir\n",
            "❌ Error: Please enter a valid number.\n",
            "🔹 Enter the length of side AB: _40\n",
            "❌ Error: Please enter a valid number.\n",
            "🔹 Enter the length of side AB: -40\n",
            "🔹 Enter the length of side AC: -50\n",
            "❌ Error: Side lengths must be positive numbers. Try again.\n",
            "🔹 Enter the length of side AB: 5\n",
            "🔹 Enter the length of side AC: 6\n",
            "\n",
            "✅ The length of BC (the hypotenuse) is: 7.81 units.\n",
            "\n",
            "🔄 Would you like to calculate another hypotenuse? (yes/no): n\n",
            "\n",
            "✅ Thank you for using the Pythagorean Theorem Calculator! 🎯\n"
          ]
        }
      ],
      "source": [
        "import math\n",
        "\n",
        "def calculate_hypotenuse():\n",
        "    \"\"\"\n",
        "    This function prompts the user for the two perpendicular side lengths of a\n",
        "    right triangle and calculates the hypotenuse using the Pythagorean theorem.\n",
        "    \"\"\"\n",
        "    print(\"\\n📏 Pythagorean Theorem Calculator 📏\")\n",
        "\n",
        "    while True:\n",
        "        try:\n",
        "            # Get the two side lengths from the user\n",
        "            ab = float(input(\"🔹 Enter the length of side AB: \"))\n",
        "            ac = float(input(\"🔹 Enter the length of side AC: \"))\n",
        "\n",
        "            # Validate input: length should be positive\n",
        "            if ab <= 0 or ac <= 0:\n",
        "                print(\"❌ Error: Side lengths must be positive numbers. Try again.\")\n",
        "                continue\n",
        "\n",
        "            break  # Exit loop if valid input\n",
        "\n",
        "        except ValueError:\n",
        "            print(\"❌ Error: Please enter a valid number.\")\n",
        "\n",
        "    # Compute the hypotenuse (BC) using the Pythagorean theorem\n",
        "    bc = math.sqrt(ab**2 + ac**2)\n",
        "\n",
        "    # Display result with 2 decimal places\n",
        "    print(f\"\\n✅ The length of BC (the hypotenuse) is: {bc:.2f} units.\\n\")\n",
        "\n",
        "def main():\n",
        "    \"\"\"Main function to run the program.\"\"\"\n",
        "    calculate_hypotenuse()\n",
        "\n",
        "    # Ask the user if they want another calculation\n",
        "    while True:\n",
        "        restart = input(\"🔄 Would you like to calculate another hypotenuse? (yes/no): \").strip().lower()\n",
        "        if restart in [\"yes\", \"y\"]:\n",
        "            calculate_hypotenuse()\n",
        "        elif restart in [\"no\", \"n\"]:\n",
        "            print(\"\\n✅ Thank you for using the Pythagorean Theorem Calculator! 🎯\")\n",
        "            break\n",
        "        else:\n",
        "            print(\"⚠️ Please enter 'yes' or 'no'.\")\n",
        "\n",
        "# Run the program\n",
        "if __name__ == \"__main__\":\n",
        "    main()\n"
      ]
    }
  ]
}