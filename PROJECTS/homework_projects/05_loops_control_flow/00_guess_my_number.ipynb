{
  "nbformat": 4,
  "nbformat_minor": 0,
  "metadata": {
    "colab": {
      "provenance": []
    },
    "kernelspec": {
      "name": "python3",
      "display_name": "Python 3"
    },
    "language_info": {
      "name": "python"
    }
  },
  "cells": [
    {
      "cell_type": "markdown",
      "source": [
        "# Program: guess_my_number"
      ],
      "metadata": {
        "id": "ZPBfsQdpD9zj"
      }
    },
    {
      "cell_type": "code",
      "execution_count": 1,
      "metadata": {
        "colab": {
          "base_uri": "https://localhost:8080/"
        },
        "id": "YlyPbnoHCS__",
        "outputId": "2a25d0b3-1d0b-42e6-99e6-935f48a9e3ff"
      },
      "outputs": [
        {
          "output_type": "stream",
          "name": "stdout",
          "text": [
            "\n",
            "🎯 Welcome to 'Guess My Number' Game! 🎯\n",
            "I am thinking of a number between 0 and 99...\n",
            "\n",
            "🔢 Enter your guess: 50\n",
            "📈 Your guess is too high. Try again!\n",
            "🔢 Enter your guess: 30\n",
            "📉 Your guess is too low. Try again!\n",
            "🔢 Enter your guess: 45\n",
            "📈 Your guess is too high. Try again!\n",
            "🔢 Enter your guess: 35\n",
            "📉 Your guess is too low. Try again!\n",
            "🔢 Enter your guess: 38\n",
            "📈 Your guess is too high. Try again!\n",
            "🔢 Enter your guess: 37\n",
            "📈 Your guess is too high. Try again!\n",
            "🔢 Enter your guess: 36\n",
            "\n",
            "🎉 Congrats! The number was: 36 🎉\n"
          ]
        }
      ],
      "source": [
        "import random\n",
        "\n",
        "def guess_my_number():\n",
        "    \"\"\" A number guessing game where the user tries to guess a randomly generated number. \"\"\"\n",
        "\n",
        "    secret_number = random.randint(0, 99)  # Generate a random number between 0 and 99\n",
        "    print(\"\\n🎯 Welcome to 'Guess My Number' Game! 🎯\")\n",
        "    print(\"I am thinking of a number between 0 and 99...\\n\")\n",
        "\n",
        "    while True:\n",
        "        try:\n",
        "            guess = int(input(\"🔢 Enter your guess: \"))  # User input\n",
        "\n",
        "            if guess < 0 or guess > 99:\n",
        "                print(\"⚠️ Please enter a number between 0 and 99!\")\n",
        "            elif guess < secret_number:\n",
        "                print(\"📉 Your guess is too low. Try again!\")\n",
        "            elif guess > secret_number:\n",
        "                print(\"📈 Your guess is too high. Try again!\")\n",
        "            else:\n",
        "                print(f\"\\n🎉 Congrats! The number was: {secret_number} 🎉\")\n",
        "                break  # Exit the loop when the correct number is guessed\n",
        "        except ValueError:\n",
        "            print(\"❌ Invalid input! Please enter a valid number.\")\n",
        "\n",
        "if __name__ == \"__main__\":\n",
        "    guess_my_number()"
      ]
    }
  ]
}