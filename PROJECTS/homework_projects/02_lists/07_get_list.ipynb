{
  "nbformat": 4,
  "nbformat_minor": 0,
  "metadata": {
    "colab": {
      "provenance": []
    },
    "kernelspec": {
      "name": "python3",
      "display_name": "Python 3"
    },
    "language_info": {
      "name": "python"
    }
  },
  "cells": [
    {
      "cell_type": "markdown",
      "source": [
        "# Program: dynamic_list_creator"
      ],
      "metadata": {
        "id": "EWlDmC2SEZ3p"
      }
    },
    {
      "cell_type": "code",
      "execution_count": 1,
      "metadata": {
        "colab": {
          "base_uri": "https://localhost:8080/"
        },
        "id": "v02YR6DUEJp6",
        "outputId": "67310168-5923-4bc7-90af-c503b6a7684e"
      },
      "outputs": [
        {
          "output_type": "stream",
          "name": "stdout",
          "text": [
            "🔹 Welcome to the Dynamic List Creator 🔹\n",
            "➤ Enter a value to add to the list (or press Enter to finish): Burger\n",
            "➤ Enter a value to add to the list (or press Enter to finish): Pizza\n",
            "➤ Enter a value to add to the list (or press Enter to finish): Biryani\n",
            "➤ Enter a value to add to the list (or press Enter to finish): Nihari\n",
            "➤ Enter a value to add to the list (or press Enter to finish): \n",
            "\n",
            "✅ Here is your final list: ['Burger', 'Pizza', 'Biryani', 'Nihari']\n"
          ]
        }
      ],
      "source": [
        "print(\"🔹 Welcome to the Dynamic List Creator 🔹\")\n",
        "\n",
        "def get_list():\n",
        "    \"\"\"Continuously asks the user to enter values into a list until they press Enter.\"\"\"\n",
        "    lst = []\n",
        "\n",
        "    while True:\n",
        "        val = input(\"➤ Enter a value to add to the list (or press Enter to finish): \")\n",
        "        if val == \"\":  # Exit condition\n",
        "            break\n",
        "        lst.append(val)\n",
        "\n",
        "    return lst\n",
        "\n",
        "def main():\n",
        "    lst = get_list()\n",
        "\n",
        "    if lst:  # Ensure the list is not empty before printing\n",
        "        print(\"\\n✅ Here is your final list:\", lst)\n",
        "    else:\n",
        "        print(\"\\n⚠️ No values entered. The list is empty!\")\n",
        "\n",
        "if __name__ == \"__main__\":\n",
        "    main()\n"
      ]
    }
  ]
}