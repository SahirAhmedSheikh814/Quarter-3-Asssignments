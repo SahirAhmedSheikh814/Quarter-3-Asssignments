{
  "nbformat": 4,
  "nbformat_minor": 0,
  "metadata": {
    "colab": {
      "provenance": []
    },
    "kernelspec": {
      "name": "python3",
      "display_name": "Python 3"
    },
    "language_info": {
      "name": "python"
    }
  },
  "cells": [
    {
      "cell_type": "markdown",
      "source": [
        "# Program: double_list_elements"
      ],
      "metadata": {
        "id": "V_tnFIDrteVY"
      }
    },
    {
      "cell_type": "code",
      "execution_count": 4,
      "metadata": {
        "colab": {
          "base_uri": "https://localhost:8080/"
        },
        "id": "JUxehdRTp4Sq",
        "outputId": "1ffcdbc2-a8f0-477b-deb1-3a4d60dc832b"
      },
      "outputs": [
        {
          "output_type": "stream",
          "name": "stdout",
          "text": [
            "\n",
            "🔢 Welcome to the Double List Elements Program! 🔢\n",
            "\n",
            "Would you like to enter your own numbers? (yes or no): yes\n",
            "🔢 Enter numbers separated by commas (e.g., 1,2,3,4,5): 2, 4, 6, 8\n",
            "\n",
            "✅ The doubled list is: [4, 8, 12, 16]\n",
            "\n",
            "🔄 Would you like to double another list? (yes or no): y\n",
            "\n",
            "Would you like to enter your own numbers? (yes or no): no\n",
            "\n",
            "✅ The doubled list is: [2, 4, 6, 8, 10]\n",
            "\n",
            "🔄 Would you like to double another list? (yes or no): n\n",
            "\n",
            "👋 Thank you for using the program! Have a great day! 😊\n"
          ]
        }
      ],
      "source": [
        "\"\"\"\n",
        "This program doubles each element in a list.\n",
        "The user can input a custom list or use a default one.\n",
        "\"\"\"\n",
        "\n",
        "def double_numbers(numbers: list[int]) -> list[int]:\n",
        "    \"\"\"\n",
        "    Takes in a list of numbers and returns a new list\n",
        "    where each number is doubled.\n",
        "    \"\"\"\n",
        "    return [num * 2 for num in numbers]  # More Pythonic way to double list items\n",
        "\n",
        "def main():\n",
        "    \"\"\"Main function to double list numbers with user input option.\"\"\"\n",
        "    print(\"\\n🔢 Welcome to the Double List Elements Program! 🔢\")\n",
        "\n",
        "    while True:\n",
        "        # Option to enter custom numbers or use default list\n",
        "        user_choice = input(\"\\nWould you like to enter your own numbers? (yes or no): \").strip().lower()\n",
        "\n",
        "        if user_choice in [\"yes\", \"y\"]:\n",
        "            user_input = input(\"🔢 Enter numbers separated by commas (e.g., 1,2,3,4,5): \")\n",
        "            numbers = [int(n.strip()) for n in user_input.split(\",\")]  # Convert input to list of numbers\n",
        "        else:\n",
        "            numbers = [1, 2, 3, 4, 5]  # Default list\n",
        "\n",
        "        # Double the numbers\n",
        "        doubled_list = double_numbers(numbers)\n",
        "        print(f\"\\n✅ The doubled list is: {doubled_list}\")\n",
        "\n",
        "        # Ask user if they want to calculate again\n",
        "        restart = input(\"\\n🔄 Would you like to double another list? (yes or no): \").strip().lower()\n",
        "        if restart not in [\"yes\", \"y\"]:\n",
        "            print(\"\\n👋 Thank you for using the program! Have a great day! 😊\")\n",
        "            break  # Exit the loop\n",
        "\n",
        "# Run the program\n",
        "if __name__ == \"__main__\":\n",
        "    main()\n"
      ]
    }
  ]
}