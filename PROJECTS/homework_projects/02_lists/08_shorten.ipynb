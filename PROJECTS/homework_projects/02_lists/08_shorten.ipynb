{
  "nbformat": 4,
  "nbformat_minor": 0,
  "metadata": {
    "colab": {
      "provenance": []
    },
    "kernelspec": {
      "name": "python3",
      "display_name": "Python 3"
    },
    "language_info": {
      "name": "python"
    }
  },
  "cells": [
    {
      "cell_type": "markdown",
      "source": [
        "# Program: list_shortener"
      ],
      "metadata": {
        "id": "VRxO5VeRF_x2"
      }
    },
    {
      "cell_type": "code",
      "execution_count": 1,
      "metadata": {
        "colab": {
          "base_uri": "https://localhost:8080/"
        },
        "id": "PlHNFmUKFcBT",
        "outputId": "d99d1e37-41af-4592-fc84-98890a3e3e69"
      },
      "outputs": [
        {
          "output_type": "stream",
          "name": "stdout",
          "text": [
            "🔹 Welcome to the List Shortener Program 🔹\n",
            "➤ Enter an element to add to the list (or press Enter to stop): Shami Kabab\n",
            "➤ Enter an element to add to the list (or press Enter to stop): Tikka\n",
            "➤ Enter an element to add to the list (or press Enter to stop): Roll\n",
            "➤ Enter an element to add to the list (or press Enter to stop): Sandwich\n",
            "➤ Enter an element to add to the list (or press Enter to stop): \n",
            "\n",
            "📋 Original List: ['Shami Kabab', 'Tikka', 'Roll', 'Sandwich']\n",
            "🗑️ Removed: Sandwich\n",
            "✅ Final List after shortening: ['Shami Kabab', 'Tikka', 'Roll']\n"
          ]
        }
      ],
      "source": [
        "print(\"🔹 Welcome to the List Shortener Program 🔹\")\n",
        "\n",
        "MAX_LENGTH: int = 3\n",
        "\n",
        "def shorten(lst):\n",
        "    \"\"\"\n",
        "    Removes elements from the end of lst until it contains MAX_LENGTH items.\n",
        "    Prints each removed item.\n",
        "    \"\"\"\n",
        "    while len(lst) > MAX_LENGTH:\n",
        "        removed_element = lst.pop()\n",
        "        print(f\"🗑️ Removed: {removed_element}\")\n",
        "\n",
        "def get_lst():\n",
        "    \"\"\"\n",
        "    Continuously prompts the user to enter elements into a list.\n",
        "    Stops when the user presses Enter without typing anything.\n",
        "    \"\"\"\n",
        "    lst = []\n",
        "    while True:\n",
        "        element = input(\"➤ Enter an element to add to the list (or press Enter to stop): \")\n",
        "        if element == \"\":\n",
        "            break\n",
        "        lst.append(element)\n",
        "\n",
        "    return lst\n",
        "\n",
        "def main():\n",
        "    lst = get_lst()\n",
        "\n",
        "    print(\"\\n📋 Original List:\", lst)\n",
        "    shorten(lst)\n",
        "    print(\"✅ Final List after shortening:\", lst)\n",
        "\n",
        "if __name__ == \"__main__\":\n",
        "    main()\n"
      ]
    }
  ]
}