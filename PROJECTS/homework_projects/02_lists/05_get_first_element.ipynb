{
  "nbformat": 4,
  "nbformat_minor": 0,
  "metadata": {
    "colab": {
      "provenance": []
    },
    "kernelspec": {
      "name": "python3",
      "display_name": "Python 3"
    },
    "language_info": {
      "name": "python"
    }
  },
  "cells": [
    {
      "cell_type": "markdown",
      "source": [
        "# Program: first_element_finder"
      ],
      "metadata": {
        "id": "NYzDfsp1BKZG"
      }
    },
    {
      "cell_type": "code",
      "execution_count": 1,
      "metadata": {
        "colab": {
          "base_uri": "https://localhost:8080/"
        },
        "id": "JDWKwC9BAcHR",
        "outputId": "1cfccf37-fad3-4521-cbee-512130a54ab1"
      },
      "outputs": [
        {
          "output_type": "stream",
          "name": "stdout",
          "text": [
            "🔹 Welcome to the First Element Finder 🔹\n",
            "Enter an element to add to the list (or press Enter to finish): Virat Kohli\n",
            "Enter an element to add to the list (or press Enter to finish): Kane Williamson\n",
            "Enter an element to add to the list (or press Enter to finish): Joe Root\n",
            "Enter an element to add to the list (or press Enter to finish): Steve Smith\n",
            "Enter an element to add to the list (or press Enter to finish): Babar Azam\n",
            "Enter an element to add to the list (or press Enter to finish): \n",
            "✅ The first element in the list is: Virat Kohli\n"
          ]
        }
      ],
      "source": [
        "print(\"🔹 Welcome to the First Element Finder 🔹\")\n",
        "\n",
        "def get_first_element(lst):\n",
        "    \"\"\"Prints the first element of a provided list.\"\"\"\n",
        "    print(f\"✅ The first element in the list is: {lst[0]}\")\n",
        "\n",
        "def get_lst():\n",
        "    \"\"\"Prompts the user to enter elements into a list one by one.\"\"\"\n",
        "    lst = []\n",
        "    while True:\n",
        "        element = input(\"Enter an element to add to the list (or press Enter to finish): \")\n",
        "        if element == \"\":  # Exit condition\n",
        "            break\n",
        "        lst.append(element)\n",
        "    return lst\n",
        "\n",
        "def main():\n",
        "    lst = get_lst()\n",
        "    if lst:  # Ensure list is not empty before accessing index 0\n",
        "        get_first_element(lst)\n",
        "    else:\n",
        "        print(\"⚠️ No elements were entered. The list is empty!\")\n",
        "\n",
        "if __name__ == \"__main__\":\n",
        "    main()\n"
      ]
    }
  ]
}